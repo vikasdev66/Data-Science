{
 "cells": [
  {
   "cell_type": "code",
   "execution_count": 7,
   "metadata": {},
   "outputs": [
    {
     "name": "stdout",
     "output_type": "stream",
     "text": [
      "[1 2 3 5]\n",
      "<class 'numpy.ndarray'>\n",
      "[[1 2 3 5]]\n"
     ]
    }
   ],
   "source": [
    "import numpy as np\n",
    "\n",
    "arr1 = np.array([1,2,3,5])\n",
    "print(arr1)\n",
    "print(type(arr1))\n",
    "print(arr1.reshape(1,4))"
   ]
  },
  {
   "cell_type": "code",
   "execution_count": 2,
   "metadata": {},
   "outputs": [
    {
     "name": "stdout",
     "output_type": "stream",
     "text": [
      "series\n",
      " 0    1\n",
      "1    2\n",
      "2    3\n",
      "3    4\n",
      "4    5\n",
      "5    6\n",
      "dtype: int64\n"
     ]
    }
   ],
   "source": [
    "import pandas as pd\n",
    "\n",
    "data = [1,2,3,4,5,6]\n",
    "print(\"series\\n\", pd.Series(data))"
   ]
  },
  {
   "cell_type": "code",
   "execution_count": 3,
   "metadata": {},
   "outputs": [
    {
     "name": "stdout",
     "output_type": "stream",
     "text": [
      "Series a    1\n",
      "b    2\n",
      "c    3\n",
      "dtype: int64\n"
     ]
    }
   ],
   "source": [
    "data = {\"a\":1,\"b\":2, \"c\":3}\n",
    "print(\"Series\", pd.Series(data))"
   ]
  },
  {
   "cell_type": "code",
   "execution_count": 4,
   "metadata": {},
   "outputs": [
    {
     "name": "stdout",
     "output_type": "stream",
     "text": [
      "Series\n",
      " a    1\n",
      "b    2\n",
      "c    3\n",
      "d    4\n",
      "dtype: int64\n"
     ]
    }
   ],
   "source": [
    "data = [1,2,3,4]\n",
    "index = [\"a\",\"b\", \"c\", \"d\"]\n",
    "print(\"Series\\n\", pd.Series(data,index=index))"
   ]
  },
  {
   "cell_type": "code",
   "execution_count": 7,
   "metadata": {},
   "outputs": [
    {
     "name": "stdout",
     "output_type": "stream",
     "text": [
      "Data Frames\n",
      "      Name  Age     City\n",
      "0   Vikas   25    Noida\n",
      "1  Roshan   25  Lucknow\n",
      "2     Raj   23    Delhi\n",
      "Array\n",
      "\n",
      " [['Vikas' 25 'Noida']\n",
      " ['Roshan' 25 'Lucknow']\n",
      " ['Raj' 23 'Delhi']]\n"
     ]
    }
   ],
   "source": [
    "import numpy as np\n",
    "data = {\n",
    "    \"Name\":[\"Vikas\", \"Roshan\",\"Raj\"],\n",
    "    \"Age\": [25,25,23],\n",
    "    \"City\": [\"Noida\", \"Lucknow\",\"Delhi\"]\n",
    "}\n",
    "\n",
    "print(\"Data Frames\\n\", pd.DataFrame(data))\n",
    "\n",
    "print(\"Array\\n\\n\", np.array(pd.DataFrame(data)))"
   ]
  },
  {
   "cell_type": "code",
   "execution_count": 21,
   "metadata": {},
   "outputs": [
    {
     "data": {
      "text/plain": [
       "id             int64\n",
       "first_name    object\n",
       "last_name     object\n",
       "email         object\n",
       "gender        object\n",
       "ip_address    object\n",
       "dtype: object"
      ]
     },
     "execution_count": 21,
     "metadata": {},
     "output_type": "execute_result"
    }
   ],
   "source": [
    "data = pd.read_csv('dummy.csv')\n",
    "# data['first_name'].head(5)\n",
    "\n",
    "data.isnull().head(10)\n",
    "data.dtypes"
   ]
  }
 ],
 "metadata": {
  "kernelspec": {
   "display_name": "myenv",
   "language": "python",
   "name": "python3"
  },
  "language_info": {
   "codemirror_mode": {
    "name": "ipython",
    "version": 3
   },
   "file_extension": ".py",
   "mimetype": "text/x-python",
   "name": "python",
   "nbconvert_exporter": "python",
   "pygments_lexer": "ipython3",
   "version": "3.12.7"
  }
 },
 "nbformat": 4,
 "nbformat_minor": 2
}
