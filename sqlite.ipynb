{
 "cells": [
  {
   "cell_type": "code",
   "execution_count": 1,
   "metadata": {},
   "outputs": [],
   "source": [
    "import sqlite3"
   ]
  },
  {
   "cell_type": "code",
   "execution_count": 3,
   "metadata": {},
   "outputs": [
    {
     "data": {
      "text/plain": [
       "<sqlite3.Connection at 0x7810196ac8b0>"
      ]
     },
     "execution_count": 3,
     "metadata": {},
     "output_type": "execute_result"
    }
   ],
   "source": [
    "connection = sqlite3.connect('example.db')\n",
    "connection "
   ]
  },
  {
   "cell_type": "code",
   "execution_count": 4,
   "metadata": {},
   "outputs": [],
   "source": [
    "cursor = connection.cursor()"
   ]
  },
  {
   "cell_type": "code",
   "execution_count": 6,
   "metadata": {},
   "outputs": [],
   "source": [
    "## create a table\n",
    "cursor.execute('''\n",
    "Create Table If Not Exists employees(\n",
    "id Integer Primary Key,\n",
    "name Text Not Null,\n",
    "age Integer,\n",
    "department Text\n",
    ")\n",
    "''')\n",
    "## commit the changes\n",
    "connection.commit()\n"
   ]
  },
  {
   "cell_type": "code",
   "execution_count": 8,
   "metadata": {},
   "outputs": [],
   "source": [
    "## create a table\n",
    "cursor.execute('''\n",
    "Select * from employees\n",
    "''')\n",
    "## commit the changes\n",
    "connection.commit()\n"
   ]
  },
  {
   "cell_type": "code",
   "execution_count": 9,
   "metadata": {},
   "outputs": [],
   "source": [
    "## Insert the data in sqlite table\n",
    "cursor.execute('''\n",
    "Insert into employees(name,age,department)\n",
    "                values('Vikas Mishra', 25, 'Data Scientist')\n",
    "''')\n",
    "\n",
    "cursor.execute('''\n",
    "Insert into employees(name,age,department)\n",
    "                values('Raj Mishra', 22, 'Data Scientist')\n",
    "''')\n",
    "\n",
    "cursor.execute('''\n",
    "Insert into employees(name,age,department)\n",
    "                values('Roshan Sharma', 28, 'Data Scientist')\n",
    "''')\n",
    "\n",
    "##commit the changes\n",
    "connection.commit()"
   ]
  },
  {
   "cell_type": "code",
   "execution_count": 10,
   "metadata": {},
   "outputs": [
    {
     "data": {
      "text/plain": [
       "<sqlite3.Cursor at 0x7810194b5140>"
      ]
     },
     "execution_count": 10,
     "metadata": {},
     "output_type": "execute_result"
    }
   ],
   "source": [
    "cursor.execute('''\n",
    "Select * from employees''')\n"
   ]
  },
  {
   "cell_type": "code",
   "execution_count": 11,
   "metadata": {},
   "outputs": [
    {
     "name": "stdout",
     "output_type": "stream",
     "text": [
      "(1, 'Vikas Mishra', 25, 'Data Scientist')\n",
      "(2, 'Raj Mishra', 22, 'Data Scientist')\n",
      "(3, 'Roshan Sharma', 28, 'Data Scientist')\n"
     ]
    }
   ],
   "source": [
    "## Query the data from the table\n",
    "cursor.execute('''\n",
    "Select * from employees''')\n",
    "rows= cursor.fetchall()\n",
    "\n",
    "## print the query results\n",
    "for row in rows:\n",
    "    print(row)"
   ]
  },
  {
   "cell_type": "code",
   "execution_count": 14,
   "metadata": {},
   "outputs": [],
   "source": [
    "## update the data in the table\n",
    "cursor.execute('''\n",
    "UPDATE employees\n",
    "Set age=34\n",
    "where name=\"Roshan Sharma\"\n",
    "''')\n",
    "\n",
    "connection.commit()"
   ]
  },
  {
   "cell_type": "code",
   "execution_count": 17,
   "metadata": {},
   "outputs": [
    {
     "name": "stdout",
     "output_type": "stream",
     "text": [
      "(1, 'Vikas Mishra', 25, 'Data Scientist')\n",
      "(2, 'Raj Mishra', 22, 'Data Scientist')\n"
     ]
    }
   ],
   "source": [
    "## Query the data from the table\n",
    "cursor.execute('''\n",
    "Select * from employees''')\n",
    "rows= cursor.fetchall()\n",
    "\n",
    "## print the query results\n",
    "for row in rows:\n",
    "    print(row)"
   ]
  },
  {
   "cell_type": "code",
   "execution_count": 16,
   "metadata": {},
   "outputs": [],
   "source": [
    "## Delete the data from the table\n",
    "\n",
    "cursor.execute('''\n",
    "Delete from employees\n",
    "            where name=\"Roshan Sharma\"\n",
    "''')\n",
    "\n",
    "connection.commit()"
   ]
  },
  {
   "cell_type": "code",
   "execution_count": 19,
   "metadata": {},
   "outputs": [],
   "source": [
    "## Working with Sales Data\n",
    "## Connect to an SQLite Database\n",
    "\n",
    "connection = sqlite3.connect('sales_data.db')\n",
    "cursor = connection.cursor()\n",
    "\n",
    "## Create a table for sales\n",
    "\n",
    "cursor.execute('''\n",
    "                  CREATE TABLE IF NOT EXISTS sales\n",
    "                  (id INTEGER PRIMARY KEY,\n",
    "                  date TEXT NOT NULL,\n",
    "                  product TEXT NOT NULL,\n",
    "                  sales INTEGER,\n",
    "                  region TEXT)\n",
    "                  ''')\n",
    "## Insert data into the sales table\n",
    "sales_data = [\n",
    "    ('2022-01-01', 'Product A', 100, 'Region 1'),\n",
    "    ('2022-01-02', 'Product B', 50, 'Region 2'),\n",
    "    ('2022-01-03', 'Product A', 75, 'Region 1'),\n",
    "    ('2022-01-04', 'Product C', 200, 'Region 3'),\n",
    "    ('2022-01-05', 'Product B', 150, 'Region 2')\n",
    "]\n",
    "\n",
    "cursor.executemany('''\n",
    "Insert into sales(date, product, sales, region)\n",
    "values(?, ?, ?, ?)\n",
    "''', sales_data)\n",
    "connection.commit()"
   ]
  },
  {
   "cell_type": "code",
   "execution_count": 22,
   "metadata": {},
   "outputs": [
    {
     "ename": "ProgrammingError",
     "evalue": "Cannot operate on a closed database.",
     "output_type": "error",
     "traceback": [
      "\u001b[31m---------------------------------------------------------------------------\u001b[39m",
      "\u001b[31mProgrammingError\u001b[39m                          Traceback (most recent call last)",
      "\u001b[36mCell\u001b[39m\u001b[36m \u001b[39m\u001b[32mIn[22]\u001b[39m\u001b[32m, line 1\u001b[39m\n\u001b[32m----> \u001b[39m\u001b[32m1\u001b[39m \u001b[43mcursor\u001b[49m\u001b[43m.\u001b[49m\u001b[43mexecute\u001b[49m\u001b[43m(\u001b[49m\u001b[33;43m'''\u001b[39;49m\n\u001b[32m      2\u001b[39m \u001b[33;43mSelect * from sales\u001b[39;49m\u001b[33;43m'''\u001b[39;49m\u001b[43m)\u001b[49m\n\u001b[32m      3\u001b[39m rows= cursor.fetchall()\n\u001b[32m      5\u001b[39m \u001b[38;5;66;03m## print the query results\u001b[39;00m\n",
      "\u001b[31mProgrammingError\u001b[39m: Cannot operate on a closed database."
     ]
    }
   ],
   "source": [
    "cursor.execute('''\n",
    "Select * from sales''')\n",
    "rows= cursor.fetchall()\n",
    "\n",
    "## print the query results\n",
    "for row in rows:\n",
    "    print(row)"
   ]
  },
  {
   "cell_type": "code",
   "execution_count": 21,
   "metadata": {},
   "outputs": [],
   "source": [
    "## close the connection\n",
    "connection.close()"
   ]
  }
 ],
 "metadata": {
  "kernelspec": {
   "display_name": "myenv",
   "language": "python",
   "name": "python3"
  },
  "language_info": {
   "codemirror_mode": {
    "name": "ipython",
    "version": 3
   },
   "file_extension": ".py",
   "mimetype": "text/x-python",
   "name": "python",
   "nbconvert_exporter": "python",
   "pygments_lexer": "ipython3",
   "version": "3.11.10"
  }
 },
 "nbformat": 4,
 "nbformat_minor": 2
}
